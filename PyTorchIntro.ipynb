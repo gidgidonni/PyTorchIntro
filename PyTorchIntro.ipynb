{
 "cells": [
  {
   "cell_type": "markdown",
   "metadata": {},
   "source": [
    "# Introducción a redes neuronales con *PyTorch*\n",
    "\n",
    "## *PyTorch*\n",
    "\n",
    "Un framework de código abierto para machine learning en *Python* y basado en *Torch*. Fue desarrollado por el grupo de Inteligencia Artificial de Facebook. Según su [sitio web](https://pytorch.org/features/), *PyTorch* permite una experimentación **rápida y flexible**, además de una producción efectiva; logrado a través de un front-end y ecosistema de herramientas y librerías amigables para el usuario. Es una API de bajo nivel enfocado en trabajar directamente con arreglos (tensores).\n",
    "\n",
    "### Documentación\n",
    "\n",
    "En [este link](https://pytorch.org/docs/stable/index.html) se encuentra la documentación oficial de la versión más estable de *PyTorch*.\n",
    "\n",
    "### Comunidad\n",
    "\n",
    "Para contribuir, aprender y recibir respuestas a preguntas existe la siguiente comunidad:\n",
    "- [Pytorch - Discuss](https://discuss.pytorch.org/): Browse and join discussions on deep learning with *PyTorch*. \n",
    "\n",
    "## Instalación\n",
    "\n",
    "En el [link](https://pytorch.org/get-started/locally/) se encuentra información relevante sobre como instalar o usar las paqueterías necesarias en diferentes sistemas operativos y ambientes. Para el caso aquí expuesto nos enfocaremos en la instalación local de *PyTorch* en *Linux*.\n",
    "\n",
    "Para ello, seleccionamos las preferencias que deseamos en el sitio web y corremos el comando mostrado para instalar *PyTorch* de manera local (Como no tenemos GPU's en la computadora, no instalaremos CUDA).\n",
    "\n",
    "<img src=\"./ImgIntro/instalacion.png\" align = \"center\">\n",
    "\n",
    "*Stable* representa la versión de *PyTorch* más probada y con mayor soporte del momento. *Preview* está disponible si el usuario desea la última versión, pero no está completamente probada ni tiene soporte completo (Estas versiones se publican cada noche). Es posible instalar versiones anteriores de *PyTorch*. *LibTorch* está sólo disponible para *C++*.\n",
    "\n",
    "### Instalación en Linux\n",
    "\n",
    "Dependiendo del sistema y los requerimientos de cómputo, la experiencia con *PyTorch* en *Linux* puede variar en términos del tiempo de procesamiento.\n",
    "\n",
    "#### Prerrequisitos\n",
    "\n",
    "En el [link](https://pytorch.org/get-started/locally/) del inicio, se encuentra una lista de los sistemas operativos compatibles. Se recomienda una versión 3.6 o más actual de *Python*. También, es recomendado *Anaconda* como gestor de paqueterías, ya que instala todas las dependencias.\n",
    "\n",
    "#### Instalación con el gestor Anaconda y sin CUDA\n",
    "\n",
    "Corremos en una terminal el comando\n",
    "    \n",
    "    conda install pytorch torchvision cpuonly -c pytorch\n",
    "    \n",
    "#### Verificación de la instalación\n",
    "\n",
    "Para asegurarnos de que *PyTorch* se instaló de manera exitosa, podemos correr el siguiente código de prueba para verificar la instalación. Se construye un tensor aleatorio."
   ]
  },
  {
   "cell_type": "code",
   "execution_count": 1,
   "metadata": {
    "scrolled": true
   },
   "outputs": [
    {
     "name": "stdout",
     "output_type": "stream",
     "text": [
      "tensor([[0.0920, 0.5722, 0.4615],\n",
      "        [0.6320, 0.3875, 0.5090],\n",
      "        [0.6060, 0.8858, 0.5223],\n",
      "        [0.3651, 0.8824, 0.7996],\n",
      "        [0.8709, 0.0072, 0.3767]])\n"
     ]
    }
   ],
   "source": [
    "from __future__ import print_function\n",
    "import torch\n",
    "x = torch.rand(5, 3)\n",
    "print(x)"
   ]
  },
  {
   "cell_type": "markdown",
   "metadata": {},
   "source": [
    "## Ventajas y desventajas del uso de *PyTorch*\n",
    "\n",
    "### Ventajas\n",
    "\n",
    "*PyTorch* posee las siguientes ventajas:\n",
    "- Cloud Support: *PyTorch* is well supported on major cloud platforms.\n",
    "- Distributed Training (Data parallelism): Optimize performance by taking advantage of native support for asynchronous execution of collective operations and peer-to-peer communication that is accessible from *Python* and *C++*.\n",
    "- A rich ecosystem of tools and libraries to extend *PyTorch* and supporting development in areas from computer vision to reinforcement learning.\n",
    "- *C++* Front-End: A pure *C++* interface to *PyTorch*, intended to enable research in high performance, low latency and bare metal *C++* applications.\n",
    "- Native *ONNX* Support: Export models in the standard *ONNX* (Open Neural Network Exchange) format.\n",
    "- El proceso de debugging en el código es más sencillo, comparado con *Keras* y *Tensorflow*. \n",
    "- Da al usuario mayor libertad y transparencia para escribir capas personalizadas, por ejemplo comparado con *Keras*.\n",
    "- Más veloz que *Keras*.\n",
    "- Más sencillo de aprender que *Tensorflow*, pero no tanto como *Keras*.\n",
    "- Potenciado para trabajar con GPU's.\n",
    "\n",
    "### Desventajas\n",
    "\n",
    "Se pudieron identificar las siguientes desventajas para *PyTorch*:\n",
    "- Mobile (Experimental): El soporte para crear aplicaciones en *Android* e *iOS* aún está en desarrollo, mientras que ya existe para otros frameworks como *Keras* o *Tensorflow*.\n",
    "- La comunidad de soporte es relativamente pequeña si es comparada con *Tensorflow*, pero aún así es numerosa y está en crecimiento.\n",
    "\n",
    "### Particularidades\n",
    "\n",
    "Es útil usar *PyTorch* para los siguientes casos:\n",
    "- Procesamiento de lenguajes naturales\n",
    "\n",
    "**Fuentes:**\n",
    "\n",
    "[Pytorch's Features](https://pytorch.org/features/)\n",
    "\n",
    "[What are the major differences between TensorFlow, Keras, and PyTorch?](https://www.quora.com/What-are-the-major-differences-between-TensorFlow-Keras-and-PyTorch)\n",
    "\n",
    "[Keras or PyTorch as your first deep learning framework](https://deepsense.ai/keras-or-pytorch/)\n",
    "\n",
    "[PyTorch vs TensorFlow: Difference you need to know](https://hackr.io/blog/pytorch-vs-tensorflow)\n",
    "\n",
    "[Differentiating PyTorch from all other Deep Learning frameworks](https://medium.com/udacity-pytorch-challengers/differentiating-pytorch-from-all-other-deep-learning-frameworks-86a7f89754b5)\n",
    "\n",
    "## Guía rápida\n",
    "\n",
    "En el [sitio oficial](https://pytorch.org/) de *PyTorch* existe una sección de [tutoriales](https://pytorch.org/tutorials/). La siguiente guía rápida está tomada de [The 60 min blitz](https://pytorch.org/tutorials/beginner/deep_learning_60min_blitz.html), que es un buen punto de partida y provee una vista general de como usar *PyTorch*, ya que cubre los puntos básicos y muestra como construir una red neuronal.\n",
    "\n",
    "### Tensores\n",
    "\n",
    "Estos son similares a los arreglos de *NumPy*, con la característica extra de que los tensores pueden usarse también en un GPU para acelerar el cómputo. Usaremos las siguientes librerías que ya se importaron antes en el notebook: \n",
    "\n",
    "    from __future__ import print_function\n",
    "    import torch\n",
    "\n",
    "Luego, se construye una matriz de 5x3 sin inicialización (Nótese que tomará cualesquiera valores alojados en la memoria en ese momento):"
   ]
  },
  {
   "cell_type": "code",
   "execution_count": 2,
   "metadata": {},
   "outputs": [
    {
     "name": "stdout",
     "output_type": "stream",
     "text": [
      "tensor([[ 8.4921e-04,  4.5902e-41, -8.9875e+33],\n",
      "        [ 3.0759e-41,  0.0000e+00,  0.0000e+00],\n",
      "        [ 0.0000e+00,  0.0000e+00,  0.0000e+00],\n",
      "        [ 0.0000e+00,  0.0000e+00,  0.0000e+00],\n",
      "        [-8.9759e+33,  3.0759e-41,  0.0000e+00]])\n"
     ]
    }
   ],
   "source": [
    "x = torch.empty(5, 3)\n",
    "print(x)"
   ]
  },
  {
   "cell_type": "markdown",
   "metadata": {},
   "source": [
    "Ahora, se construye una matriz aleatoria:"
   ]
  },
  {
   "cell_type": "code",
   "execution_count": 3,
   "metadata": {},
   "outputs": [
    {
     "name": "stdout",
     "output_type": "stream",
     "text": [
      "tensor([[0.9066, 0.8814, 0.5890],\n",
      "        [0.4657, 0.9717, 0.1462],\n",
      "        [0.1665, 0.5771, 0.1545],\n",
      "        [0.2830, 0.2372, 0.1562],\n",
      "        [0.1980, 0.4485, 0.1791]])\n"
     ]
    }
   ],
   "source": [
    "x = torch.rand(5, 3)\n",
    "print(x)"
   ]
  },
  {
   "cell_type": "markdown",
   "metadata": {},
   "source": [
    "Una con sólo ceros:"
   ]
  },
  {
   "cell_type": "code",
   "execution_count": 4,
   "metadata": {},
   "outputs": [
    {
     "name": "stdout",
     "output_type": "stream",
     "text": [
      "tensor([[0, 0, 0],\n",
      "        [0, 0, 0],\n",
      "        [0, 0, 0],\n",
      "        [0, 0, 0],\n",
      "        [0, 0, 0]])\n"
     ]
    }
   ],
   "source": [
    "x = torch.zeros(5, 3, dtype=torch.long)\n",
    "print(x)"
   ]
  },
  {
   "cell_type": "markdown",
   "metadata": {},
   "source": [
    "También es posible elegir los datos del tensor:"
   ]
  },
  {
   "cell_type": "code",
   "execution_count": 5,
   "metadata": {},
   "outputs": [
    {
     "name": "stdout",
     "output_type": "stream",
     "text": [
      "tensor([5.5000, 3.0000])\n"
     ]
    }
   ],
   "source": [
    "x = torch.tensor([5.5, 3])\n",
    "print(x)"
   ]
  },
  {
   "cell_type": "markdown",
   "metadata": {},
   "source": [
    "o crear un tensor basado en uno ya existente, reusándose propiedades del tensor de entrada"
   ]
  },
  {
   "cell_type": "code",
   "execution_count": 6,
   "metadata": {},
   "outputs": [
    {
     "name": "stdout",
     "output_type": "stream",
     "text": [
      "tensor([[1., 1., 1.],\n",
      "        [1., 1., 1.],\n",
      "        [1., 1., 1.],\n",
      "        [1., 1., 1.],\n",
      "        [1., 1., 1.]], dtype=torch.float64)\n",
      "tensor([[-0.3656,  0.1609, -0.8137],\n",
      "        [ 0.1652, -0.3214, -0.3378],\n",
      "        [-0.6997,  0.0430,  1.0639],\n",
      "        [-0.0418,  0.7095, -0.8703],\n",
      "        [ 0.1669, -0.0274, -0.0022]])\n"
     ]
    }
   ],
   "source": [
    "x = x.new_ones(5, 3, dtype=torch.double)      # new_* methods take in sizes (Se crea tensor con unos)\n",
    "print(x)\n",
    "\n",
    "x = torch.randn_like(x, dtype=torch.float)    # override dtype! (Se llena el tensor de valores aleatorios y se cambia el tipo de datos)\n",
    "print(x)                                      # result has the same size"
   ]
  },
  {
   "cell_type": "markdown",
   "metadata": {},
   "source": [
    "Para conocer el tamaño de un tensor usamos:"
   ]
  },
  {
   "cell_type": "code",
   "execution_count": 7,
   "metadata": {},
   "outputs": [
    {
     "name": "stdout",
     "output_type": "stream",
     "text": [
      "torch.Size([5, 3])\n"
     ]
    }
   ],
   "source": [
    "print(x.size())"
   ]
  },
  {
   "cell_type": "markdown",
   "metadata": {},
   "source": [
    "### Operaciones\n",
    "\n",
    "Existen múltiples sintaxis para las operaciones. En los siguientes ejemplo veremos la operación suma.\n",
    "\n",
    "**Suma**: sintaxis 1"
   ]
  },
  {
   "cell_type": "code",
   "execution_count": 8,
   "metadata": {},
   "outputs": [
    {
     "name": "stdout",
     "output_type": "stream",
     "text": [
      "tensor([[-0.3288,  0.3608, -0.5762],\n",
      "        [ 1.1160,  0.1553,  0.1365],\n",
      "        [-0.3517,  0.9496,  1.0867],\n",
      "        [ 0.4978,  1.5217, -0.8529],\n",
      "        [ 0.9124,  0.1949,  0.7015]])\n"
     ]
    }
   ],
   "source": [
    "y = torch.rand(5, 3)\n",
    "print(x + y)"
   ]
  },
  {
   "cell_type": "markdown",
   "metadata": {},
   "source": [
    "**Suma**: sintaxis 2"
   ]
  },
  {
   "cell_type": "code",
   "execution_count": 9,
   "metadata": {},
   "outputs": [
    {
     "name": "stdout",
     "output_type": "stream",
     "text": [
      "tensor([[-0.3288,  0.3608, -0.5762],\n",
      "        [ 1.1160,  0.1553,  0.1365],\n",
      "        [-0.3517,  0.9496,  1.0867],\n",
      "        [ 0.4978,  1.5217, -0.8529],\n",
      "        [ 0.9124,  0.1949,  0.7015]])\n"
     ]
    }
   ],
   "source": [
    "print(torch.add(x, y))"
   ]
  },
  {
   "cell_type": "markdown",
   "metadata": {},
   "source": [
    "**Suma**: se provee un tensor de salida donde guardar el resultado"
   ]
  },
  {
   "cell_type": "code",
   "execution_count": 10,
   "metadata": {},
   "outputs": [
    {
     "name": "stdout",
     "output_type": "stream",
     "text": [
      "tensor([[-0.3288,  0.3608, -0.5762],\n",
      "        [ 1.1160,  0.1553,  0.1365],\n",
      "        [-0.3517,  0.9496,  1.0867],\n",
      "        [ 0.4978,  1.5217, -0.8529],\n",
      "        [ 0.9124,  0.1949,  0.7015]])\n"
     ]
    }
   ],
   "source": [
    "result = torch.empty(5, 3)\n",
    "torch.add(x, y, out=result)\n",
    "print(result)"
   ]
  },
  {
   "cell_type": "markdown",
   "metadata": {},
   "source": [
    "**Suma**: in situ"
   ]
  },
  {
   "cell_type": "code",
   "execution_count": 11,
   "metadata": {},
   "outputs": [
    {
     "name": "stdout",
     "output_type": "stream",
     "text": [
      "tensor([[-0.3288,  0.3608, -0.5762],\n",
      "        [ 1.1160,  0.1553,  0.1365],\n",
      "        [-0.3517,  0.9496,  1.0867],\n",
      "        [ 0.4978,  1.5217, -0.8529],\n",
      "        [ 0.9124,  0.1949,  0.7015]])\n"
     ]
    }
   ],
   "source": [
    "# adds x to y\n",
    "y.add_(x) # Nótese que es necesario agregar un _ cuando se ocupa esta sintaxis\n",
    "print(y)"
   ]
  },
  {
   "cell_type": "markdown",
   "metadata": {},
   "source": [
    "Para conocer las entradas del tensor, puede usarse la notación usual de *NumPy*"
   ]
  },
  {
   "cell_type": "code",
   "execution_count": 12,
   "metadata": {},
   "outputs": [
    {
     "name": "stdout",
     "output_type": "stream",
     "text": [
      "tensor([ 0.1609, -0.3214,  0.0430,  0.7095, -0.0274])\n"
     ]
    }
   ],
   "source": [
    "print(x[:, 1]) # Se imprimen todos los renglones de la segunda columna"
   ]
  },
  {
   "cell_type": "markdown",
   "metadata": {},
   "source": [
    "**Resizing**: Si se desea reescalar o modificar la forma de un tesor, usamos `torch.view`:"
   ]
  },
  {
   "cell_type": "code",
   "execution_count": 13,
   "metadata": {},
   "outputs": [
    {
     "name": "stdout",
     "output_type": "stream",
     "text": [
      "torch.Size([4, 4]) torch.Size([16]) torch.Size([2, 8])\n"
     ]
    }
   ],
   "source": [
    "x = torch.randn(4, 4)\n",
    "y = x.view(16)\n",
    "z = x.view(-1, 8)  # the value for -1 is inferred from other dimensions\n",
    "print(x.size(), y.size(), z.size())"
   ]
  },
  {
   "cell_type": "markdown",
   "metadata": {},
   "source": [
    "Si se tiene un tensor con un solo elemento, usamos `.item()` para obtener el valor"
   ]
  },
  {
   "cell_type": "code",
   "execution_count": 14,
   "metadata": {},
   "outputs": [
    {
     "name": "stdout",
     "output_type": "stream",
     "text": [
      "tensor([-0.5133])\n",
      "-0.5132735371589661\n"
     ]
    }
   ],
   "source": [
    "x = torch.randn(1)\n",
    "print(x)\n",
    "print(x.item())"
   ]
  },
  {
   "cell_type": "markdown",
   "metadata": {},
   "source": [
    "Existen muchas otras operaciones que pueden revisarse [aquí](https://pytorch.org/docs/stable/torch.html#math-operations).\n",
    "\n",
    "### *NumPy*\n",
    "\n",
    "Convertir un tensor *Torch* a un arreglo de *NumPy* y viceversa es sencillo. Primero creamos el tensor"
   ]
  },
  {
   "cell_type": "code",
   "execution_count": 15,
   "metadata": {},
   "outputs": [
    {
     "name": "stdout",
     "output_type": "stream",
     "text": [
      "tensor([1., 1., 1., 1., 1.])\n"
     ]
    }
   ],
   "source": [
    "a = torch.ones(5)\n",
    "print(a)"
   ]
  },
  {
   "cell_type": "markdown",
   "metadata": {},
   "source": [
    "luego lo transformamos con `.numpy()`"
   ]
  },
  {
   "cell_type": "code",
   "execution_count": 16,
   "metadata": {},
   "outputs": [
    {
     "name": "stdout",
     "output_type": "stream",
     "text": [
      "[1. 1. 1. 1. 1.]\n"
     ]
    }
   ],
   "source": [
    "b = a.numpy()\n",
    "print(b)"
   ]
  },
  {
   "cell_type": "markdown",
   "metadata": {},
   "source": [
    "Ahora, notemos que modificar uno de ellos también modificará al otro, ya que están alojados en el mismo espacio de memoria (Siempre y cuando el tensor *Torch* se encuentre en el CPU)."
   ]
  },
  {
   "cell_type": "code",
   "execution_count": 17,
   "metadata": {},
   "outputs": [
    {
     "name": "stdout",
     "output_type": "stream",
     "text": [
      "tensor([2., 2., 2., 2., 2.])\n",
      "[2. 2. 2. 2. 2.]\n"
     ]
    }
   ],
   "source": [
    "a.add_(1)\n",
    "print(a)\n",
    "print(b)"
   ]
  },
  {
   "cell_type": "markdown",
   "metadata": {},
   "source": [
    "Para convertir un arreglo de *NumPy* a un tensor *Torch* usamos `from_numpy()`:"
   ]
  },
  {
   "cell_type": "code",
   "execution_count": 18,
   "metadata": {},
   "outputs": [
    {
     "name": "stdout",
     "output_type": "stream",
     "text": [
      "[1. 1. 1. 1. 1.]\n",
      "tensor([1., 1., 1., 1., 1.], dtype=torch.float64)\n"
     ]
    }
   ],
   "source": [
    "import numpy as np\n",
    "a = np.ones(5)\n",
    "b = torch.from_numpy(a)\n",
    "print(a)\n",
    "print(b)"
   ]
  },
  {
   "cell_type": "markdown",
   "metadata": {},
   "source": [
    "Notemos que cambiar el arreglo de *NumPy* también modifica el tensor *Torch*, debido a lo que se explicó anteriormente."
   ]
  },
  {
   "cell_type": "code",
   "execution_count": 19,
   "metadata": {},
   "outputs": [
    {
     "name": "stdout",
     "output_type": "stream",
     "text": [
      "[2. 2. 2. 2. 2.]\n",
      "tensor([2., 2., 2., 2., 2.], dtype=torch.float64)\n"
     ]
    }
   ],
   "source": [
    "np.add(a, 1, out=a)\n",
    "print(a)\n",
    "print(b)"
   ]
  },
  {
   "cell_type": "markdown",
   "metadata": {},
   "source": [
    "Todos los tensores en el CPU, excepto por los CharTensor, pueden convertirse a arreglos de *NumPy* y viceversa.\n",
    "\n",
    "### `Autograd`\n",
    "\n",
    "Central en todas las redes neuronales de *PyTorch* es el paquete `autograd`, que provee una manera automática para diferenciar todas las operaciones sobre tensores. \n",
    "\n",
    "#### `Tensor` y `Function`\n",
    "\n",
    "La clase central del paquete es `torch.Tensor`. Si se configura el atributo del tensor `.requires_grad` como `True`, entonces se llevará un registro de todas las operaciones que se hacen sobre él. Al finalizar los cálculos, puede llamarse `.backward()` sobre el tensor para calcular todos los gradientes de manera automática. El gradiente de este tensor se acumula en el atributo `.grad`.\n",
    "\n",
    "Si `Tensor`es un escalar, no es necesario especificar argumentos para `.backward()`; por el contrario, si tiene más elementos, es necesario especificar un argumento de gradiente que sea un tensor con la misma forma.\n",
    "\n",
    "Para dejar de registrar las operaciones, se llama `.detach()`. También, para prevenir el registro (y el uso de memoria), se puede envolver el código con `with torch.no_grad():`. Lo anterior es útil cuando se requiere evaluar un modelo que posee parámetros entrenables con `requires_grad=True`, pero para los cuales no necesitamos su gradiente. \n",
    "\n",
    "Otra clase de importancia para la implementación de `autograd` es una `Function` (Función).\n",
    "\n",
    "`Tensor`y `Function` están interconectadas y construyen una [gráfica acíclica](https://mathworld.wolfram.com/AcyclicGraph.html), que codifican un proceso completo de cómputo. Cada tensor tiene un atributo `.grad_fn` que hace referencia a la función (`Function`) que lo creó (Excepto para los tensores creados por el usuario, su `.grad_fn` es `None`). \n",
    "\n",
    "Para los siguientes ejemplos necesitamos\n",
    "\n",
    "    import torch\n",
    "\n",
    "pero ya se ha importado antes en el notebook, por lo que no es necesario hacerlo nuevamente. Ahora, creamos un tensor y configuramos `requires_grad=True`para registrar los cálculos que se hagan con él."
   ]
  },
  {
   "cell_type": "code",
   "execution_count": 20,
   "metadata": {},
   "outputs": [
    {
     "name": "stdout",
     "output_type": "stream",
     "text": [
      "tensor([[1., 1.],\n",
      "        [1., 1.]], requires_grad=True)\n"
     ]
    }
   ],
   "source": [
    "x = torch.ones(2, 2, requires_grad=True)\n",
    "print(x)"
   ]
  },
  {
   "cell_type": "markdown",
   "metadata": {},
   "source": [
    "Hacemos una suma"
   ]
  },
  {
   "cell_type": "code",
   "execution_count": 21,
   "metadata": {},
   "outputs": [
    {
     "name": "stdout",
     "output_type": "stream",
     "text": [
      "tensor([[3., 3.],\n",
      "        [3., 3.]], grad_fn=<AddBackward0>)\n"
     ]
    }
   ],
   "source": [
    "y = x + 2\n",
    "print(y)"
   ]
  },
  {
   "cell_type": "markdown",
   "metadata": {},
   "source": [
    "como `y`se creó a partir de una operación, entonces tiene atributo `grad_fn`."
   ]
  },
  {
   "cell_type": "code",
   "execution_count": 22,
   "metadata": {},
   "outputs": [
    {
     "name": "stdout",
     "output_type": "stream",
     "text": [
      "<AddBackward0 object at 0x7ff50845c2e0>\n"
     ]
    }
   ],
   "source": [
    "print(y.grad_fn)"
   ]
  },
  {
   "cell_type": "markdown",
   "metadata": {},
   "source": [
    "Nótese que `grad_fn` nos da información sobre la operación inmediatamente anterior, para conocer operaciones más atrás de la última usamos `.next_functions[][]`.\n",
    "\n",
    "Ahora, realizamos más operaciones en `y`"
   ]
  },
  {
   "cell_type": "code",
   "execution_count": 23,
   "metadata": {},
   "outputs": [
    {
     "name": "stdout",
     "output_type": "stream",
     "text": [
      "tensor([[27., 27.],\n",
      "        [27., 27.]], grad_fn=<MulBackward0>) tensor(27., grad_fn=<MeanBackward0>)\n"
     ]
    }
   ],
   "source": [
    "z = y * y * 3  # Multiplicamos\n",
    "out = z.mean() # Sacamos promedio de todas las celdas\n",
    "\n",
    "print(z, out) "
   ]
  },
  {
   "cell_type": "markdown",
   "metadata": {},
   "source": [
    "`.requires_grad_( ... )` es un cambio in situ del actual atributo `requires_grad` de un `Tensor`. El atributo se configura a `False`si no se da un argumento. "
   ]
  },
  {
   "cell_type": "code",
   "execution_count": 24,
   "metadata": {},
   "outputs": [
    {
     "name": "stdout",
     "output_type": "stream",
     "text": [
      "False\n",
      "True\n",
      "<SumBackward0 object at 0x7ff53453db50>\n"
     ]
    }
   ],
   "source": [
    "a = torch.randn(2, 2)     # Creamos tensor 2x2 con entradas aleatorias\n",
    "a = ((a * 3) / (a - 1))   # Realizamos operaciones sobre tensor\n",
    "print(a.requires_grad)\n",
    "a.requires_grad_(True)    # Cambiamos valor del atributo requires_grad\n",
    "print(a.requires_grad)\n",
    "b = (a * a).sum()\n",
    "print(b.grad_fn)"
   ]
  },
  {
   "cell_type": "markdown",
   "metadata": {},
   "source": [
    "### Gradientes\n",
    "\n",
    "Tenemos que `out` contiene un solo escalar, por lo que `out.backward()` es equivalente a `out.backward(torch.tensor(1.))`."
   ]
  },
  {
   "cell_type": "code",
   "execution_count": 25,
   "metadata": {},
   "outputs": [],
   "source": [
    "out.backward()"
   ]
  },
  {
   "cell_type": "markdown",
   "metadata": {},
   "source": [
    "Imprimimos los gradientes $d(out)/dx$"
   ]
  },
  {
   "cell_type": "code",
   "execution_count": 26,
   "metadata": {},
   "outputs": [
    {
     "name": "stdout",
     "output_type": "stream",
     "text": [
      "tensor([[4.5000, 4.5000],\n",
      "        [4.5000, 4.5000]])\n"
     ]
    }
   ],
   "source": [
    "print(x.grad)"
   ]
  },
  {
   "cell_type": "markdown",
   "metadata": {},
   "source": [
    "Denotemos al `Tensor` `out` como “$o$”. Tenemos que \n",
    "\\begin{align*}\n",
    "    & o = \\frac{1}{4}\\sum_i z_i,\\\\\n",
    "    & z_i = 3(x_i+2)^2,\\\\\n",
    "    & \\text{y} \\quad z_i\\bigr\\rvert_{x_i=1} = 27.\n",
    "\\end{align*}\n",
    "Por tanto, \n",
    "\\begin{align*}\n",
    "    & \\frac{\\partial o}{\\partial x_i} = \\frac{3}{2}(x_i+2),\\\\\n",
    "\\end{align*}\n",
    "por lo que\n",
    "\\begin{align*}\n",
    "    & \\frac{\\partial o}{\\partial x_i}\\bigr\\rvert_{x_i=1} = \\frac{9}{2} = 4.5.\n",
    "\\end{align*}\n",
    "\n",
    "En términos matemáticos, si se tiene una función vectorial $\\vec{y}=f(\\vec{x})$, el gradiente correspondiente a $\\vec{y}$ con respecto a $\\vec{x}$ es la matriz Jacobiana:\n",
    "\n",
    "\\begin{align}J=\\left(\\begin{array}{ccc}\n",
    "   \\frac{\\partial y_{1}}{\\partial x_{1}} & \\cdots & \\frac{\\partial y_{1}}{\\partial x_{n}}\\\\\n",
    "   \\vdots & \\ddots & \\vdots\\\\\n",
    "   \\frac{\\partial y_{m}}{\\partial x_{1}} & \\cdots & \\frac{\\partial y_{m}}{\\partial x_{n}}\n",
    "   \\end{array}\\right)\\end{align}\n",
    "\n",
    "De manera general, `torch.autograd` es un motor que permite calcular el producto entre un vector y la matriz Jacobiana. Esto es, dado cualquier vector $v=\\left(\\begin{array}{cccc} v_{1} & v_{2} & \\cdots & v_{m}\\end{array}\\right)^{T}$, se calcula el producto $v^{T}\\cdot J$. Si $v$ resulta ser el gradiente de una función escalar $l=g\\left(\\vec{y}\\right)$, esto es, $v=\\left(\\begin{array}{ccc}\\frac{\\partial l}{\\partial y_{1}} & \\cdots & \\frac{\\partial l}{\\partial y_{m}}\\end{array}\\right)^{T}$, por regla de la cadena tenemos que el producto entre el vector y la matriz Jacobiana será el gradiente de $l$ con respecto a $\\vec{x}$:\n",
    "\n",
    "\\begin{align}J^{T}\\cdot v=\\left(\\begin{array}{ccc}\n",
    "   \\frac{\\partial y_{1}}{\\partial x_{1}} & \\cdots & \\frac{\\partial y_{m}}{\\partial x_{1}}\\\\\n",
    "   \\vdots & \\ddots & \\vdots\\\\\n",
    "   \\frac{\\partial y_{1}}{\\partial x_{n}} & \\cdots & \\frac{\\partial y_{m}}{\\partial x_{n}}\n",
    "   \\end{array}\\right)\\left(\\begin{array}{c}\n",
    "   \\frac{\\partial l}{\\partial y_{1}}\\\\\n",
    "   \\vdots\\\\\n",
    "   \\frac{\\partial l}{\\partial y_{m}}\n",
    "   \\end{array}\\right)=\\left(\\begin{array}{c}\n",
    "   \\frac{\\partial l}{\\partial x_{1}}\\\\\n",
    "   \\vdots\\\\\n",
    "   \\frac{\\partial l}{\\partial x_{n}}\n",
    "   \\end{array}\\right)\\end{align}\n",
    "\n",
    "Ahora, un ejemplo de producto entre un vector y una matriz Jacobiana:"
   ]
  },
  {
   "cell_type": "code",
   "execution_count": 27,
   "metadata": {},
   "outputs": [
    {
     "name": "stdout",
     "output_type": "stream",
     "text": [
      "tensor([-725.8875,  -95.7174, -797.5491], grad_fn=<MulBackward0>)\n"
     ]
    }
   ],
   "source": [
    "x = torch.randn(3, requires_grad=True)   # Creamos un tensor de 1x3 con entradas aleatorias\n",
    "\n",
    "y = x * 2\n",
    "while y.data.norm() < 1000:              # data.norm() calculates the L2 norm (Euclidean norm) of the tensor\n",
    "    y = y * 2\n",
    "\n",
    "print(y)"
   ]
  },
  {
   "cell_type": "markdown",
   "metadata": {},
   "source": [
    "Para este caso `y` no es un escalar. `torch.autograd` no podría calcular el Jacobiano completo de manera directa, pero si sólo deseamos conocer el producto vector - Jacobiano, simplemente usamos `backward` y el vector a multiplicar como argumento:"
   ]
  },
  {
   "cell_type": "code",
   "execution_count": 28,
   "metadata": {},
   "outputs": [
    {
     "name": "stdout",
     "output_type": "stream",
     "text": [
      "tensor([1.0240e+02, 1.0240e+03, 1.0240e-01])\n"
     ]
    }
   ],
   "source": [
    "v = torch.tensor([0.1, 1.0, 0.0001], dtype=torch.float)\n",
    "y.backward(v)\n",
    "\n",
    "print(x.grad)"
   ]
  },
  {
   "cell_type": "markdown",
   "metadata": {},
   "source": [
    "Para detener el registro de operaciones por `autograd` en tensores con `.requires_grad=True`, se puede encolver el código en `with torch.no_grad()`:"
   ]
  },
  {
   "cell_type": "code",
   "execution_count": 29,
   "metadata": {},
   "outputs": [
    {
     "name": "stdout",
     "output_type": "stream",
     "text": [
      "True\n",
      "True\n",
      "False\n"
     ]
    }
   ],
   "source": [
    "print(x.requires_grad)\n",
    "print((x ** 2).requires_grad)\n",
    "\n",
    "with torch.no_grad():\n",
    "    print((x ** 2).requires_grad)"
   ]
  },
  {
   "cell_type": "markdown",
   "metadata": {},
   "source": [
    "o usando `.detach()`, para obtener un nuevo tensor con el mismo contenido pero del cual no requerimos los gradientes:"
   ]
  },
  {
   "cell_type": "code",
   "execution_count": 30,
   "metadata": {},
   "outputs": [
    {
     "name": "stdout",
     "output_type": "stream",
     "text": [
      "True\n",
      "False\n",
      "tensor(True)\n"
     ]
    }
   ],
   "source": [
    "print(x.requires_grad)\n",
    "y = x.detach()\n",
    "print(y.requires_grad)\n",
    "print(x.eq(y).all())"
   ]
  },
  {
   "cell_type": "markdown",
   "metadata": {},
   "source": [
    "Documentación sobre `autograd.Function` se encuentra [aquí](https://pytorch.org/docs/stable/autograd.html#function).\n",
    "\n",
    "### Redes Neuronales\n",
    "\n",
    "Se pueden construir redes neuronales usando el paquete `torch.nn`.\n",
    "\n",
    "`nn` depende de `autograd` para definir modelos y diferenciarlos. Un módulo de red neuronal `nn.Module`contiene capas y un método `forward(input)` (funciones de activación) que nos da como resultado la salida de la red (`output`).\n",
    "\n",
    "En *PyTorch*, el proceso usual para definir y entrenar una red neuronal es el siguiente: \n",
    "1. Se define la red neuronal que tiene parámetros (pesos) por entrenar.\n",
    "2. Iterar sobre un conjunto de datos de entradas.\n",
    "3. Procesar la entrada a través de la red. \n",
    "4. Calcular la función de pérdida.\n",
    "5. Propagar los gradientes de vuelta en los parámetros de la red (Backpropagation).\n",
    "6. Actualizar los pesos de la red; por ejemplo, usando la regla sencilla: `weight = weight - learning_rate * gradient` (Gradient Descent). \n",
    "    - Nota 1: `torch.nn` sólo admite mini-batches. Es decir, todo el paquete `torch.nn` solamente admite entradas que son un mini-batch de muestras, y no una única muestra. En caso de tener una sola muestra, usar `input.unsqueeze(0)` para agregar una dimensión falsa. \n",
    "    - Nota 2: Documentación para `nn.Module` se encuentra [aquí](https://pytorch.org/docs/stable/nn.html#module). El paquete `nn` contiene varios módulos.\n",
    "\n",
    "A continuación, presentamos un ejemplo de red neuronal usando el conjunto de datos **CIFAR-10**, que tiene las siguientes clases: avión, automóvil, pájaro, gato, venado, perro, rana, caballo y camión. Las imágenes son de tamaño 3x32x32; es decir, imágenes a color con 3 canales y de 32x32 pixeles.\n",
    "    \n",
    "### Ejemplo de Red Neuronal con *PyTorch*: Clasificador CIFAR-10\n",
    "\n",
    "Generalmente, cuando manejamos datos en cualquier formato, podemos usar paqueterías de *Python* para cargar los datos en un arreglo de `numpy`; posteriormente, podemos convertir el arreglo en un `torch.*Tensor`. \n",
    "\n",
    "Específicamente para problemas de visión, *PyTorch* tiene un paquete llamado `torchvision`; que posee herramientas para cargar datos de conjuntos conocidos como son Imagenet, CIFAR10, MNIST, etc. El paquete también posee herramientas para transformar datos en formato de imágenes, viz., `torchvision.datasets` y `torch.utils.data.DataLoader`. La documentación de `torchvision` se encuentra [aquí](https://pytorch.org/docs/stable/torchvision/index.html).\n",
    "\n",
    "Realizaremos los siguientes pasos: \n",
    "1. Cargaremos y normalizaremos los datos, tanto para el conjunto de entrenamiento como de prueba, usando `torchvision`.\n",
    "2. Definiremos una red neuronal convolucional.\n",
    "3. Definiremos una función de pérdida.\n",
    "4. Entrenaremos la red usando el conjunto de entrada.\n",
    "5. Probaremos la red sobre el conjunto de prueba.\n",
    "\n",
    "#### Cargamos y normalizamos los datos \n",
    "\n",
    "Usamos `torchvision`"
   ]
  },
  {
   "cell_type": "code",
   "execution_count": 31,
   "metadata": {},
   "outputs": [],
   "source": [
    "import torchvision\n",
    "import torchvision.transforms as transforms"
   ]
  },
  {
   "cell_type": "markdown",
   "metadata": {},
   "source": [
    "Recordemos que es necesario importar `torch` usando \n",
    "    \n",
    "    import torch\n",
    "    \n",
    "pero ya se ha hecho antes en el notebook. \n",
    "\n",
    "Ahora, `torchvision` entrega conjuntos de datos en forma de imágenes *PILImage* de rango [0,1]. Transformaremos las imágenes en tensores de rango normalizado [-1,1]."
   ]
  },
  {
   "cell_type": "code",
   "execution_count": 32,
   "metadata": {},
   "outputs": [
    {
     "name": "stdout",
     "output_type": "stream",
     "text": [
      "Files already downloaded and verified\n",
      "Files already downloaded and verified\n"
     ]
    }
   ],
   "source": [
    "transform = transforms.Compose(\n",
    "    [transforms.ToTensor(),  # Para transformar imagen a tensor\n",
    "     transforms.Normalize((0.5, 0.5, 0.5), (0.5, 0.5, 0.5))])  # Para normalizar datos\n",
    "\n",
    "#Se cargan datos en conjunto de entrenamiento\n",
    "trainset = torchvision.datasets.CIFAR10(root='./data', train=True,\n",
    "                                        download=True, transform=transform)\n",
    "trainloader = torch.utils.data.DataLoader(trainset, batch_size=4,\n",
    "                                          shuffle=True, num_workers=2)\n",
    "\n",
    "#Se cargan datos en conjunto de prueba\n",
    "testset = torchvision.datasets.CIFAR10(root='./data', train=False,\n",
    "                                       download=True, transform=transform)\n",
    "testloader = torch.utils.data.DataLoader(testset, batch_size=4,\n",
    "                                         shuffle=False, num_workers=2)\n",
    "\n",
    "classes = ('plane', 'car', 'bird', 'cat',                     # Definimos clases\n",
    "           'deer', 'dog', 'frog', 'horse', 'ship', 'truck')"
   ]
  },
  {
   "cell_type": "markdown",
   "metadata": {},
   "source": [
    "Mostraremos algunas imágenes del conjunto de datos."
   ]
  },
  {
   "cell_type": "code",
   "execution_count": 33,
   "metadata": {},
   "outputs": [
    {
     "data": {
      "image/png": "[encoded data removed]",
      "text/plain": [
       "<Figure size 432x288 with 1 Axes>"
      ]
     },
     "metadata": {
      "needs_background": "light"
     },
     "output_type": "display_data"
    },
    {
     "name": "stdout",
     "output_type": "stream",
     "text": [
      " ship  ship   dog   car\n"
     ]
    }
   ],
   "source": [
    "import matplotlib.pyplot as plt\n",
    "\n",
    "# Definimos funciones para mostrar imágenes\n",
    "def imshow(img):\n",
    "    img = img / 2 + 0.5     # unnormalize (Se realizan operaciones sobre imagen porque es un tensor)\n",
    "    npimg = img.numpy()     # Pasamos tensor a arreglo de numpy\n",
    "    plt.imshow(np.transpose(npimg, (1, 2, 0)))\n",
    "    plt.show()\n",
    "\n",
    "# get some random training images\n",
    "dataiter = iter(trainloader)\n",
    "images, labels = dataiter.next()\n",
    "\n",
    "# show images\n",
    "imshow(torchvision.utils.make_grid(images))\n",
    "# print labels\n",
    "print(' '.join('%5s' % classes[labels[j]] for j in range(4)))"
   ]
  },
  {
   "cell_type": "markdown",
   "metadata": {},
   "source": [
    "#### Definimos una Red Neuronal Convolucional"
   ]
  },
  {
   "cell_type": "code",
   "execution_count": 34,
   "metadata": {},
   "outputs": [
    {
     "name": "stdout",
     "output_type": "stream",
     "text": [
      "Net(\n",
      "  (conv1): Conv2d(3, 6, kernel_size=(5, 5), stride=(1, 1))\n",
      "  (pool): MaxPool2d(kernel_size=2, stride=2, padding=0, dilation=1, ceil_mode=False)\n",
      "  (conv2): Conv2d(6, 16, kernel_size=(5, 5), stride=(1, 1))\n",
      "  (fc1): Linear(in_features=400, out_features=120, bias=True)\n",
      "  (fc2): Linear(in_features=120, out_features=84, bias=True)\n",
      "  (fc3): Linear(in_features=84, out_features=10, bias=True)\n",
      ")\n"
     ]
    }
   ],
   "source": [
    "import torch.nn as nn\n",
    "import torch.nn.functional as F\n",
    "\n",
    "#Definimos el módulo nn.Module\n",
    "class Net(nn.Module):\n",
    "    \n",
    "    def __init__(self):\n",
    "        super(Net, self).__init__()\n",
    "        # 3 input image channels, 6 output channels (filtros), 3x3 square convolution kernel\n",
    "        self.conv1 = nn.Conv2d(3, 6, 5)\n",
    "        # Max pooling over a (2, 2) window\n",
    "        self.pool = nn.MaxPool2d(2, 2)\n",
    "        # 6 input channels, 16 output channels (filtros), 3x3 square convolution kernel\n",
    "        self.conv2 = nn.Conv2d(6, 16, 5)\n",
    "        # an affine operation: y = Wx + b\n",
    "        self.fc1 = nn.Linear(16 * 5 * 5, 120)  # 5x5 from last image dimension. Definimos capa completamente conectada con 120 nodos.\n",
    "        self.fc2 = nn.Linear(120, 84)  # Definimos capa completamente conectada con 84 nodos.\n",
    "        self.fc3 = nn.Linear(84, 10)  # Definimos capa completamente conectada de salida con 10 nodos.\n",
    "        \n",
    "        # Definimos funciones de activación\n",
    "    def forward(self, x):\n",
    "        x = self.pool(F.relu(self.conv1(x)))\n",
    "        x = self.pool(F.relu(self.conv2(x)))\n",
    "        x = x.view(-1, 16 * 5 * 5)  # Misma acción que flattening (Aplanamos)\n",
    "        x = F.relu(self.fc1(x))\n",
    "        x = F.relu(self.fc2(x))\n",
    "        x = self.fc3(x)\n",
    "        return x\n",
    "\n",
    "        # Función para calcular número de rasgos\n",
    "    def num_flat_features(self, x):\n",
    "        size = x.size()[1:]  # all dimensions except the batch dimension\n",
    "        num_features = 1\n",
    "        for s in size:\n",
    "            num_features *= s\n",
    "        return num_features\n",
    "    \n",
    "net = Net()\n",
    "print(net)"
   ]
  },
  {
   "cell_type": "markdown",
   "metadata": {},
   "source": [
    "Solamente definimos la función `forward`, ya que la función `backward` (donde se calculan los gradientes) se define automáticamente usando `autograd`. Es posible utilizar cualquiera de las [operaciones de `Tensor` conocidas](https://pytorch.org/docs/stable/torch.html#math-operations) dentro de la función `forward`.\n",
    "\n",
    "La red neuronal definida es la siguiente:\n",
    "\n",
    "<img src=\"./ImgIntro/mnist.png\" align = \"center\">\n",
    "\n",
    "Nótese que en la imagen solamente hay un canal de color para la entrada, pero para la red que definimos nosotros tenemos 3 canales de color de entrada.\n",
    "\n",
    "Los parámetros entrenables del modelo pueden conocerse con `net.parameters()`"
   ]
  },
  {
   "cell_type": "code",
   "execution_count": 35,
   "metadata": {},
   "outputs": [
    {
     "name": "stdout",
     "output_type": "stream",
     "text": [
      "10\n",
      "torch.Size([6, 3, 5, 5])\n"
     ]
    }
   ],
   "source": [
    "params = list(net.parameters())\n",
    "print(len(params))\n",
    "print(params[0].size())  # conv1's .weight"
   ]
  },
  {
   "cell_type": "markdown",
   "metadata": {},
   "source": [
    "#### Definimos una función de pérdida y un optimizador para la red\n",
    "\n",
    "Existen diversas [funciones de pérdida](https://pytorch.org/docs/stable/nn.html#loss-functions) en la paquetería `nn`. Para este caso usaremos Classification Cross-Entropy como función de pérdida y SGD con momentum para el optimizador.\n",
    "\n",
    "Un optimizador permite **actualizar los pesos** de la red. Para activar los optimizadores se usa el paquete `torch.optim`, que nos permite implementar diferentes métodos de actualización de parámetros."
   ]
  },
  {
   "cell_type": "code",
   "execution_count": 36,
   "metadata": {},
   "outputs": [],
   "source": [
    "import torch.optim as optim\n",
    "\n",
    "criterion = nn.CrossEntropyLoss()\n",
    "optimizer = optim.SGD(net.parameters(), lr=0.001, momentum=0.9)  # Elegimos y configuramos optimizador"
   ]
  },
  {
   "cell_type": "markdown",
   "metadata": {},
   "source": [
    "Modules and loss functions form the building blocks of deep neural networks.\n",
    "\n",
    "#### Entrenamos la red\n",
    "\n",
    "Solamente tenemos que definir el número de épocas, especificar los datos de entrada a la red y luego optimizar.\n",
    "\n",
    "To **backpropagate the error** all we have to do is call `loss.backward()`. Nótese que es necesario eliminar los gradientes ya existentes, de otra forma los nuevos gradientes se acumularán sobre los anteriores."
   ]
  },
  {
   "cell_type": "code",
   "execution_count": 37,
   "metadata": {},
   "outputs": [
    {
     "name": "stdout",
     "output_type": "stream",
     "text": [
      "[1,  2000] loss: 2.178\n",
      "[1,  4000] loss: 1.852\n",
      "[1,  6000] loss: 1.645\n",
      "[1,  8000] loss: 1.552\n",
      "[1, 10000] loss: 1.487\n",
      "[1, 12000] loss: 1.444\n",
      "[2,  2000] loss: 1.390\n",
      "[2,  4000] loss: 1.375\n",
      "[2,  6000] loss: 1.347\n",
      "[2,  8000] loss: 1.328\n",
      "[2, 10000] loss: 1.316\n",
      "[2, 12000] loss: 1.283\n",
      "Finished Training\n"
     ]
    }
   ],
   "source": [
    "loss_graph = np.zeros(2)\n",
    "\n",
    "for epoch in range(2):  # loop over the dataset multiple times\n",
    "    \n",
    "    running_loss = 0.0\n",
    "    for i, data in enumerate(trainloader, 0):\n",
    "        # get the inputs; nótese que data es una lista del estilo [inputs, labels]\n",
    "        inputs, labels = data\n",
    "\n",
    "        # zero the parameter gradients\n",
    "        optimizer.zero_grad()  # Eliminamos gradientes existentes\n",
    "\n",
    "        # forward + backward + optimize\n",
    "        outputs = net(inputs)  # Introducimos datos en la red\n",
    "        loss = criterion(outputs, labels) # Se calcula función de pérdida\n",
    "        loss.backward()  # Backpropagation \n",
    "        optimizer.step()  # Actualizamos pesos\n",
    "\n",
    "        # print statistics\n",
    "        running_loss += loss.item()\n",
    "        if i % 2000 == 1999:    # print every 2000 mini-batches\n",
    "            print('[%d, %5d] loss: %.3f' %\n",
    "                  (epoch + 1, i + 1, running_loss / 2000))\n",
    "            loss_graph[epoch] = running_loss / 2000\n",
    "            running_loss = 0.0\n",
    "        \n",
    "print('Finished Training')"
   ]
  },
  {
   "cell_type": "markdown",
   "metadata": {},
   "source": [
    "Graficamos la evolución del costo en el conjunto de entrenamiento a través de las épocas:"
   ]
  },
  {
   "cell_type": "code",
   "execution_count": 38,
   "metadata": {},
   "outputs": [
    {
     "data": {
      "image/png": "[encoded data removed]",
      "text/plain": [
       "<Figure size 432x288 with 1 Axes>"
      ]
     },
     "metadata": {
      "needs_background": "light"
     },
     "output_type": "display_data"
    }
   ],
   "source": [
    "plt.plot(loss_graph)\n",
    "plt.ylabel('Loss')\n",
    "plt.xlabel('Epoch')\n",
    "plt.show()"
   ]
  },
  {
   "cell_type": "markdown",
   "metadata": {},
   "source": [
    "Para guardar el modelo:"
   ]
  },
  {
   "cell_type": "code",
   "execution_count": 39,
   "metadata": {},
   "outputs": [],
   "source": [
    "PATH = './cifar_net.pth'\n",
    "torch.save(net.state_dict(), PATH)"
   ]
  },
  {
   "cell_type": "markdown",
   "metadata": {},
   "source": [
    "Más [detalles](https://pytorch.org/docs/stable/notes/serialization.html) sobre como guardar un modelo.\n",
    "\n",
    "Para cargar el modelo usamos \n",
    "\n",
    "    net = Net()\n",
    "    net.load_state_dict(torch.load(PATH))\n",
    "\n",
    "#### Probaremos el modelo en el conjunto de prueba\n",
    "\n",
    "Predeciremos la etiqueta de una imagen por medio de nuestra red neuronal y la compararemos con el valor real de la etiqueta. Si la predicción es correcta, agregamos la muestra a la lista de predicciones correctas."
   ]
  },
  {
   "cell_type": "code",
   "execution_count": 40,
   "metadata": {},
   "outputs": [
    {
     "data": {
      "image/png": "[encoded data removed]",
      "text/plain": [
       "<Figure size 432x288 with 1 Axes>"
      ]
     },
     "metadata": {
      "needs_background": "light"
     },
     "output_type": "display_data"
    },
    {
     "name": "stdout",
     "output_type": "stream",
     "text": [
      "GroundTruth:    cat  ship  ship plane\n"
     ]
    }
   ],
   "source": [
    "dataiter = iter(testloader)\n",
    "images, labels = dataiter.next()\n",
    "\n",
    "# print images\n",
    "imshow(torchvision.utils.make_grid(images))\n",
    "print('GroundTruth: ', ' '.join('%5s' % classes[labels[j]] for j in range(4)))"
   ]
  },
  {
   "cell_type": "markdown",
   "metadata": {},
   "source": [
    "Las salidas de la red son 10 diferentes valores, cada uno corresponde a alguna de las clases del conjunto, se toma el valor más alto como la predicción de la red:"
   ]
  },
  {
   "cell_type": "code",
   "execution_count": 41,
   "metadata": {},
   "outputs": [
    {
     "name": "stdout",
     "output_type": "stream",
     "text": [
      "Predicted:    car plane plane   car\n"
     ]
    }
   ],
   "source": [
    "_, predicted = torch.max(outputs, 1)\n",
    "\n",
    "print('Predicted: ', ' '.join('%5s' % classes[predicted[j]]\n",
    "                              for j in range(4)))"
   ]
  },
  {
   "cell_type": "markdown",
   "metadata": {},
   "source": [
    "Ahora veamos como le va a la red con el conjunto completo."
   ]
  },
  {
   "cell_type": "code",
   "execution_count": 42,
   "metadata": {},
   "outputs": [
    {
     "name": "stdout",
     "output_type": "stream",
     "text": [
      "Accuracy of the network on the 10000 test images: 54 %\n"
     ]
    }
   ],
   "source": [
    "correct = 0\n",
    "total = 0\n",
    "with torch.no_grad():  # No necesitamos conocer los gradientes\n",
    "    for data in testloader:\n",
    "        images, labels = data\n",
    "        outputs = net(images)\n",
    "        _, predicted = torch.max(outputs.data, 1)\n",
    "        total += labels.size(0)\n",
    "        correct += (predicted == labels).sum().item()\n",
    "\n",
    "print('Accuracy of the network on the 10000 test images: %d %%' % (\n",
    "    100 * correct / total))"
   ]
  },
  {
   "cell_type": "markdown",
   "metadata": {},
   "source": [
    "Mostramos el porcentaje de rendimiento de la red por cada una de las clases:"
   ]
  },
  {
   "cell_type": "code",
   "execution_count": 43,
   "metadata": {},
   "outputs": [
    {
     "name": "stdout",
     "output_type": "stream",
     "text": [
      "Accuracy of plane : 61 %\n",
      "Accuracy of   car : 51 %\n",
      "Accuracy of  bird : 23 %\n",
      "Accuracy of   cat : 29 %\n",
      "Accuracy of  deer : 58 %\n",
      "Accuracy of   dog : 57 %\n",
      "Accuracy of  frog : 54 %\n",
      "Accuracy of horse : 66 %\n",
      "Accuracy of  ship : 72 %\n",
      "Accuracy of truck : 69 %\n"
     ]
    }
   ],
   "source": [
    "class_correct = list(0. for i in range(10))\n",
    "class_total = list(0. for i in range(10))\n",
    "with torch.no_grad():\n",
    "    for data in testloader:\n",
    "        images, labels = data\n",
    "        outputs = net(images)\n",
    "        _, predicted = torch.max(outputs, 1)\n",
    "        c = (predicted == labels).squeeze()\n",
    "        for i in range(4): # 4 por el tamaño de los lotes\n",
    "            label = labels[i]\n",
    "            class_correct[label] += c[i].item()\n",
    "            class_total[label] += 1\n",
    "\n",
    "for i in range(10):\n",
    "    print('Accuracy of %5s : %2d %%' % (\n",
    "        classes[i], 100 * class_correct[i] / class_total[i]))"
   ]
  },
  {
   "cell_type": "markdown",
   "metadata": {},
   "source": [
    "Se sugiere probar más épocas para ver que tanto mejora el entrenamiento. "
   ]
  }
 ],
 "metadata": {
  "kernelspec": {
   "display_name": "Python 3",
   "language": "python",
   "name": "python3"
  },
  "language_info": {
   "codemirror_mode": {
    "name": "ipython",
    "version": 3
   },
   "file_extension": ".py",
   "mimetype": "text/x-python",
   "name": "python",
   "nbconvert_exporter": "python",
   "pygments_lexer": "ipython3",
   "version": "3.8.3"
  }
 },
 "nbformat": 4,
 "nbformat_minor": 4
}
